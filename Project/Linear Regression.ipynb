{
 "cells": [
  {
   "cell_type": "code",
   "execution_count": 8,
   "metadata": {},
   "outputs": [
    {
     "name": "stdout",
     "output_type": "stream",
     "text": [
      "error rate=\n",
      " 0.6493\n"
     ]
    }
   ],
   "source": [
    "#Import dataset\n",
    "import pickle as p\n",
    "import numpy as np\n",
    "import matplotlib.pyplot as plt\n",
    "import matplotlib.image as plimg\n",
    "from PIL import Image\n",
    "def load_CIFAR_batch(filename):\n",
    "    \"\"\" load single batch of cifar \"\"\"\n",
    "    with open(filename, 'rb')as f:\n",
    "        datadict = p.load(f,encoding='latin1')\n",
    "        #print(datadict.keys())\n",
    "        X = datadict['data']\n",
    "        Y = datadict['labels']\n",
    "        X = X.reshape(10000, 3, 32, 32)\n",
    "        Y = np.array(Y)\n",
    "        return X, Y\n",
    "\n",
    "X1,Y1=load_CIFAR_batch('data_batch_1')\n",
    "X2,Y2=load_CIFAR_batch('data_batch_2')\n",
    "X3,Y3=load_CIFAR_batch('data_batch_3')\n",
    "X4,Y4=load_CIFAR_batch('data_batch_4')\n",
    "X5,Y5=load_CIFAR_batch('data_batch_5')\n",
    "X_test,Y_test=load_CIFAR_batch('test_batch')\n",
    "X=np.vstack((X1,X2,X3,X4,X5)).reshape(50000,3072)\n",
    "X=X/256\n",
    "Y=np.hstack((Y1,Y2,Y3,Y4,Y5))\n",
    "x_test=X_test/256\n",
    "x_test=x_test.reshape(10000,3072)\n",
    "\n",
    "# cross validation\n",
    "Iv = [[]] * 5\n",
    "Ir = [[]] * 5\n",
    "x_train,y_train,x_hold,y_hold=[[]]*5,[[]]*5,[[]]*5,[[]]*5\n",
    "for m in range(5):\n",
    "    Iv[m] = range(m,50000,5)\n",
    "    Ir[m] = np.setdiff1d(range(50000),Iv[m])\n",
    "    x_train[m]=X[Ir[m]]\n",
    "    y_train[m]=Y[Ir[m]]\n",
    "    y_train[m]=y_train[m].reshape(40000,1)\n",
    "    x_hold[m]=X[Iv[m]]\n",
    "    y_hold[m]=Y[Iv[m]]\n",
    "    y_hold[m]=y_hold[m].reshape(10000,1)\n",
    "\n",
    "# 1 vs all\n",
    "w=[[]]*5\n",
    "error_cross=[]\n",
    "for n in range(5):\n",
    "    w[n]=[[]]*10\n",
    "    for k in range(10):\n",
    "        y=y_train[n].copy()\n",
    "        y[y_train[n]==k],y[y_train[n]!=k]=-1,1\n",
    "        w[n][k]=np.linalg.inv(x_train[n].T@x_train[n])@x_train[n].T@y\n",
    "    \n",
    "    error=0\n",
    "    for j in range(5000):\n",
    "        result=[]\n",
    "        for i in range(10):\n",
    "            y=y_hold[n].copy()\n",
    "            y[y_hold[n]==i],y[y_hold[n]!=i]=-1,1\n",
    "            predict=x_hold[n][j]@w[n][i]\n",
    "            result.append(predict)\n",
    "            if predict<0:\n",
    "                label=i\n",
    "                break\n",
    "            label=result.index(min(result))\n",
    "        if label!=y_hold[n][j]:\n",
    "            error+=1\n",
    "    error_cross.append(error) \n",
    "        \n",
    "w_best=w[error_cross.index(min(error_cross))]        \n",
    "\n",
    "error=0\n",
    "for m in range(10000):\n",
    "    result=[]\n",
    "    for n in range(10):\n",
    "        predict=x_test[m]@w_best[n]\n",
    "        result.append(predict)\n",
    "        if predict<0:\n",
    "            label=n\n",
    "            break\n",
    "        label=result.index(min(result))\n",
    "    if label!=Y_test[m]:\n",
    "        error+=1\n",
    "print('error rate=\\n',error/10000)\n",
    "        \n",
    "    "
   ]
  },
  {
   "cell_type": "code",
   "execution_count": 7,
   "metadata": {},
   "outputs": [
    {
     "ename": "AttributeError",
     "evalue": "'list' object has no attribute 'shape'",
     "output_type": "error",
     "traceback": [
      "\u001b[0;31m---------------------------------------------------------------------------\u001b[0m",
      "\u001b[0;31mAttributeError\u001b[0m                            Traceback (most recent call last)",
      "\u001b[0;32m<ipython-input-7-2a6a289832be>\u001b[0m in \u001b[0;36m<module>\u001b[0;34m\u001b[0m\n\u001b[0;32m----> 1\u001b[0;31m \u001b[0mprint\u001b[0m\u001b[0;34m(\u001b[0m\u001b[0mw_best\u001b[0m\u001b[0;34m.\u001b[0m\u001b[0mshape\u001b[0m\u001b[0;34m)\u001b[0m\u001b[0;34m\u001b[0m\u001b[0;34m\u001b[0m\u001b[0m\n\u001b[0m",
      "\u001b[0;31mAttributeError\u001b[0m: 'list' object has no attribute 'shape'"
     ]
    }
   ],
   "source": []
  },
  {
   "cell_type": "code",
   "execution_count": 38,
   "metadata": {
    "scrolled": false
   },
   "outputs": [
    {
     "name": "stdout",
     "output_type": "stream",
     "text": [
      "15.872076103552715\n",
      "6.371007204682382\n",
      "8.444933699968797\n",
      "10.272398880753185\n",
      "1.820318804796905\n",
      "6.636515455826949\n",
      "8.30582928479692\n",
      "11.733660187273605\n",
      "9.404256192106027\n",
      "10.306733934976556\n"
     ]
    }
   ],
   "source": [
    "\n"
   ]
  },
  {
   "cell_type": "code",
   "execution_count": 27,
   "metadata": {},
   "outputs": [
    {
     "name": "stdout",
     "output_type": "stream",
     "text": [
      "c= [[ 1]\n",
      " [ 1]\n",
      " [ 1]\n",
      " [ 1]\n",
      " [-1]\n",
      " [ 1]\n",
      " [ 1]]\n",
      "d= [[1]\n",
      " [2]\n",
      " [3]\n",
      " [1]\n",
      " [0]\n",
      " [1]\n",
      " [2]]\n",
      "c= [[-1]\n",
      " [ 1]\n",
      " [ 1]\n",
      " [-1]\n",
      " [ 1]\n",
      " [-1]\n",
      " [ 1]]\n",
      "d= [[1]\n",
      " [2]\n",
      " [3]\n",
      " [1]\n",
      " [0]\n",
      " [1]\n",
      " [2]]\n"
     ]
    }
   ],
   "source": [
    "d=np.array([[1],[2],[3],[1],[0],[1],[2]])\n",
    "for i in range(2):\n",
    "    c=d.copy()\n",
    "    c[d==i],c[d!=i]=-1,1\n",
    "    print('c=',c)\n",
    "    print('d=',d)"
   ]
  },
  {
   "cell_type": "code",
   "execution_count": 35,
   "metadata": {},
   "outputs": [
    {
     "name": "stdout",
     "output_type": "stream",
     "text": [
      "0.9\n"
     ]
    }
   ],
   "source": [
    "\n",
    "# cross validation\n",
    "Iv = [[]] * 5\n",
    "Ir = [[]] * 5\n",
    "x_train,y_train,x_hold,y_hold=[[]]*5,[[]]*5,[[]]*5,[[]]*5\n",
    "for m in range(5):\n",
    "    Iv[m] = range(m,50000,5)\n",
    "    Ir[m] = np.setdiff1d(range(50000),Iv[m])\n",
    "    x_train[m]=X[Ir[m]]\n",
    "    y_train[m]=Y[Ir[m]]*10\n",
    "    y_train[m]=y_train[m].reshape(40000,1)\n",
    "    x_hold[m]=X[Iv[m]]\n",
    "    y_hold[m]=Y[Iv[m]]*10\n",
    "    y_hold[m]=y_hold[m].reshape(10000,1)\n",
    "    x_train[m]=np.hstack((np.ones((x_train[m].shape[0],1)),x_train[m]))\n",
    "    x_hold[m]=np.hstack((np.ones((x_hold[m].shape[0],1)),x_hold[m]))\n",
    "    \n",
    "#train\n",
    "la_vals=np.linspace(10**(-5),100,20)\n",
    "W_best=[[]]*5\n",
    "for i in range(5):\n",
    "    W=weight(x_train[i],y_train[i],la_vals)\n",
    "    c=100\n",
    "    for j in range(20):\n",
    "        prediction=label(x_hold[i]@W[:,j:j+1]/10)\n",
    "        error=np.mean(prediction!=y_hold[i])\n",
    "        if error<c:\n",
    "            c=error\n",
    "            W_best[i]=W[:,j:j+1]\n",
    "            \n",
    "           \n",
    "print('done')\n",
    "# test\n",
    "error_rate=[[]]*5\n",
    "x_test=np.hstack((np.ones((x_test.shape[0],1)),x_test))\n",
    "for j in range(5):\n",
    "    result=label(x_test@W_best[j]/10)\n",
    "    error_rate[j]=np.mean(result!=Y_test)\n",
    "print(min(error_rate))\n",
    "    "
   ]
  },
  {
   "cell_type": "code",
   "execution_count": 31,
   "metadata": {},
   "outputs": [
    {
     "name": "stdout",
     "output_type": "stream",
     "text": [
      "(40000, 3073)\n",
      "(40000,)\n"
     ]
    }
   ],
   "source": [
    "#Import dataset\n",
    "import pickle as p\n",
    "import numpy as np\n",
    "import matplotlib.pyplot as plt\n",
    "import matplotlib.image as plimg\n",
    "from PIL import Image\n",
    "def load_CIFAR_batch(filename):\n",
    "    \"\"\" load single batch of cifar \"\"\"\n",
    "    with open(filename, 'rb')as f:\n",
    "        datadict = p.load(f,encoding='latin1')\n",
    "        #print(datadict.keys())\n",
    "        X = datadict['data']\n",
    "        Y = datadict['labels']\n",
    "        X = X.reshape(10000, 3, 32, 32)\n",
    "        Y = np.array(Y)\n",
    "        return X, Y\n",
    "\n",
    "def weight(A,y,la):\n",
    "    p,n= A.shape\n",
    "    num_lam = len(la)\n",
    "    X = np.zeros((n, num_lam))\n",
    "    for k,each_lamda in enumerate(la):\n",
    "        X[:,k:k+1]=np.linalg.inv((A@A.T+each_lamda*np.eye(p)))@A.T@y\n",
    "    return X\n",
    "X1,Y1=load_CIFAR_batch('data_batch_1')\n",
    "X2,Y2=load_CIFAR_batch('data_batch_2')\n",
    "X3,Y3=load_CIFAR_batch('data_batch_3')\n",
    "X4,Y4=load_CIFAR_batch('data_batch_4')\n",
    "X5,Y5=load_CIFAR_batch('data_batch_5')\n",
    "X_test,Y_test=load_CIFAR_batch('test_batch')\n",
    "X=np.vstack((X1,X2,X3,X4,X5)).reshape(50000,3072)\n",
    "Y=np.hstack((Y1,Y2,Y3,Y4,Y5))\n",
    "x_test=X_test/25.6\n",
    "x_test=x_test.reshape(10000,3072)\n",
    "\n",
    "# cross validation\n",
    "Iv = [[]] * 5\n",
    "Ir = [[]] * 5\n",
    "x_train,y_train,x_hold,y_hold=[[]]*5,[[]]*5,[[]]*5,[[]]*5\n",
    "la_vals=np.linspace(10**(-5),100,20)\n",
    "W_best=[[]]*5\n",
    "for i in range(5):\n",
    "    W=weight(x_train[i],y_train[i],la_vals)\n",
    "    c=1\n",
    "    for j in range(20):\n",
    "        prediction=label(x_hold[i]@W[:,j:j+1])\n",
    "        error=np.mean(prediction!=y_hold[i])\n",
    "        if error<c:\n",
    "            c=error\n",
    "            W_best[i]=W[:,j]\n",
    "            \n",
    "for m in range(5):\n",
    "    Iv[m] = range(m,50000,5)\n",
    "    Ir[m] = np.setdiff1d(range(50000),Iv[m])\n",
    "    x_train[m]=X[Ir[m]]/25.6  \n",
    "    y_train[m]=Y[Ir[m]]\n",
    "    x_hold[m]=X[Iv[m]]/25.6\n",
    "    y_hold[m]=Y[Iv[m]]\n",
    "    x_train[m]=np.hstack((np.ones((x_train[m].shape[0],1)),x_train[m]))\n",
    "print(x_train[m].shape)\n",
    "print(y_train[0].shape)\n"
   ]
  },
  {
   "cell_type": "code",
   "execution_count": 22,
   "metadata": {},
   "outputs": [
    {
     "name": "stdout",
     "output_type": "stream",
     "text": [
      "None\n"
     ]
    }
   ],
   "source": [
    "def label(A):\n",
    "    A=np.around(A,decimals=1)\n",
    "    for k in range(A.shape[0]):\n",
    "        if A[k]>9:\n",
    "            A[k]=9\n",
    "        if A[k]<0:\n",
    "            A[k]=0\n",
    "        if A[k]>0 and A[k]<9:\n",
    "            A[k]=np.around(A[k],decimals=1)\n",
    "B=np.array([[2.45],[7.21],[6.32],[8.97]])\n",
    "print(label(B))"
   ]
  },
  {
   "cell_type": "code",
   "execution_count": null,
   "metadata": {},
   "outputs": [],
   "source": [
    "error_rate=0\n",
    "for j in range(5):\n",
    "    result=label(x_test@W_best)\n",
    "    error_rate=np.mean(result!=Y_test)\n",
    "print(error_rate)\n",
    "# Train\n",
    "def label(A):\n",
    "    for k in A:\n",
    "        if k>9:\n",
    "            k=9\n",
    "        elif k<0:\n",
    "            k=0\n",
    "        else:\n",
    "            k=np.round(k)\n",
    "            \n",
    "la_vals=np.linspace(10**(-5),100,20)\n",
    "W_best=[[]]*5\n",
    "for i in range(5):\n",
    "    W=weight(x_train[i],y_train[i],la_vals)\n",
    "    c=1\n",
    "    for j in range(50):\n",
    "        prediction=label(x_hold[i]@W[:,j])\n",
    "        error=np.mean(prediction!=y_hold[i])\n",
    "        if error<c:\n",
    "            c=error\n",
    "            W_best[i]=W[:,j]\n",
    "            \n",
    "print('done')\n",
    "# test\n",
    "error_rate=[[]]*5\n",
    "for j in range(5):\n",
    "    result=label(x_test@W_best[j])\n",
    "    error_rate[j]=np.mean(result!=y_test)\n",
    "print(min(error_rate))\n",
    "        "
   ]
  },
  {
   "cell_type": "code",
   "execution_count": null,
   "metadata": {},
   "outputs": [],
   "source": [
    "def weight(A,y,la):\n",
    "    p,n= A.shape\n",
    "    num_lam = len(la)\n",
    "    X = np.zeros((n, num_lam))\n",
    "    for k,each_lamda in enumerate(la):\n",
    "        X[:,k:k+1]=np.linalg.inv((A@A.T+each_lamda*np.eye(p)))@A.T@y\n",
    "    return X"
   ]
  }
 ],
 "metadata": {
  "kernelspec": {
   "display_name": "Python 3",
   "language": "python",
   "name": "python3"
  },
  "language_info": {
   "codemirror_mode": {
    "name": "ipython",
    "version": 3
   },
   "file_extension": ".py",
   "mimetype": "text/x-python",
   "name": "python",
   "nbconvert_exporter": "python",
   "pygments_lexer": "ipython3",
   "version": "3.8.5"
  }
 },
 "nbformat": 4,
 "nbformat_minor": 4
}
