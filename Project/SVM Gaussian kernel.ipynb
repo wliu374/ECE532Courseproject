{
 "cells": [
  {
   "cell_type": "code",
   "execution_count": 2,
   "metadata": {},
   "outputs": [],
   "source": [
    "#Import dataset\n",
    "import pickle as p\n",
    "import numpy as np\n",
    "import matplotlib.pyplot as plt\n",
    "import matplotlib.image as plimg\n",
    "from PIL import Image\n",
    "def load_CIFAR_batch(filename):\n",
    "    \"\"\" load single batch of cifar \"\"\"\n",
    "    with open(filename, 'rb')as f:\n",
    "        datadict = p.load(f,encoding='latin1')\n",
    "        #print(datadict.keys())\n",
    "        X = datadict['data']\n",
    "        Y = datadict['labels']\n",
    "        X = X.reshape(10000, 3, 32, 32)\n",
    "        Y = np.array(Y)\n",
    "        return X, Y\n",
    "\n",
    "X1,Y1=load_CIFAR_batch('data_batch_1')\n",
    "X2,Y2=load_CIFAR_batch('data_batch_2')\n",
    "X3,Y3=load_CIFAR_batch('data_batch_3')\n",
    "X4,Y4=load_CIFAR_batch('data_batch_4')\n",
    "X5,Y5=load_CIFAR_batch('data_batch_5')\n",
    "X_test,Y_test=load_CIFAR_batch('test_batch')\n",
    "  \n",
    "X0=np.vstack((X1,X2,X3,X4,X5)).reshape(50000,3072)\n",
    "X0=X0/256\n",
    "Y0=np.hstack((Y1,Y2,Y3,Y4,Y5)).reshape((50000,1))\n",
    "data0=np.hstack((X0,Y0))\n",
    "data = data0[data0[:,-1].argsort()]\n",
    "X=data[:,0:3072]\n",
    "Y=data[:,3072]\n",
    "x_test=X_test/256\n",
    "x_test=x_test.reshape(10000,3072)\n"
   ]
  },
  {
   "cell_type": "code",
   "execution_count": 3,
   "metadata": {
    "scrolled": true
   },
   "outputs": [
    {
     "name": "stdout",
     "output_type": "stream",
     "text": [
      "The score of rbf is : 0.543600\n"
     ]
    }
   ],
   "source": [
    "from sklearn import svm\n",
    "clf_rbf = svm.SVC(kernel='rbf')\n",
    "clf_rbf.fit(X,Y)\n",
    "score_rbf = clf_rbf.score(x_test,Y_test)\n",
    "print(\"The score of rbf is : %f\"%score_rbf)"
   ]
  },
  {
   "cell_type": "code",
   "execution_count": 4,
   "metadata": {},
   "outputs": [
    {
     "name": "stdout",
     "output_type": "stream",
     "text": [
      "Error rate: 0.45640000000000003\n"
     ]
    }
   ],
   "source": [
    "print('Error rate:',(1-score_rbf))"
   ]
  },
  {
   "cell_type": "code",
   "execution_count": null,
   "metadata": {},
   "outputs": [],
   "source": []
  }
 ],
 "metadata": {
  "kernelspec": {
   "display_name": "Python 3",
   "language": "python",
   "name": "python3"
  },
  "language_info": {
   "codemirror_mode": {
    "name": "ipython",
    "version": 3
   },
   "file_extension": ".py",
   "mimetype": "text/x-python",
   "name": "python",
   "nbconvert_exporter": "python",
   "pygments_lexer": "ipython3",
   "version": "3.8.5"
  }
 },
 "nbformat": 4,
 "nbformat_minor": 4
}
