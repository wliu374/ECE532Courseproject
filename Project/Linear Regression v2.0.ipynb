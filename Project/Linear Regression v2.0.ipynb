{
 "cells": [
  {
   "cell_type": "code",
   "execution_count": 1,
   "metadata": {},
   "outputs": [],
   "source": [
    "#Import dataset\n",
    "import pickle as p\n",
    "import numpy as np\n",
    "import matplotlib.pyplot as plt\n",
    "import matplotlib.image as plimg\n",
    "from PIL import Image\n",
    "def load_CIFAR_batch(filename):\n",
    "    \"\"\" load single batch of cifar \"\"\"\n",
    "    with open(filename, 'rb')as f:\n",
    "        datadict = p.load(f,encoding='latin1')\n",
    "        #print(datadict.keys())\n",
    "        X = datadict['data']\n",
    "        Y = datadict['labels']\n",
    "        X = X.reshape(10000, 3, 32, 32)\n",
    "        Y = np.array(Y)\n",
    "        return X, Y\n",
    "\n",
    "X1,Y1=load_CIFAR_batch('data_batch_1')\n",
    "X2,Y2=load_CIFAR_batch('data_batch_2')\n",
    "X3,Y3=load_CIFAR_batch('data_batch_3')\n",
    "X4,Y4=load_CIFAR_batch('data_batch_4')\n",
    "X5,Y5=load_CIFAR_batch('data_batch_5')\n",
    "X_test,Y_test=load_CIFAR_batch('test_batch')\n",
    "  \n",
    "X0=np.vstack((X1,X2,X3,X4,X5)).reshape(50000,3072)\n",
    "X0=X0/256\n",
    "Y0=np.hstack((Y1,Y2,Y3,Y4,Y5)).reshape((50000,1))\n",
    "data0=np.hstack((X0,Y0))\n",
    "data = data0[data0[:,-1].argsort()]\n",
    "X=data[:,0:3072]\n",
    "Y=data[:,3072:3073]\n",
    "x_test=X_test/256\n",
    "x_test=x_test.reshape(10000,3072)"
   ]
  },
  {
   "cell_type": "code",
   "execution_count": 3,
   "metadata": {},
   "outputs": [
    {
     "name": "stdout",
     "output_type": "stream",
     "text": [
      "error rate 0.626\n"
     ]
    },
    {
     "data": {
      "image/png": "[encoded data removed]",
      "text/plain": [
       "<Figure size 432x288 with 1 Axes>"
      ]
     },
     "metadata": {
      "needs_background": "light"
     },
     "output_type": "display_data"
    }
   ],
   "source": [
    "# cross validation\n",
    "Iv = [[]] * 5\n",
    "Ir = [[]] * 5\n",
    "x_train,y_train,x_hold,y_hold=[[]]*5,[[]]*5,[[]]*5,[[]]*5\n",
    "for m in range(5):\n",
    "    Iv[m] = range(m,50000,5)\n",
    "    Ir[m] = np.setdiff1d(range(50000),Iv[m])\n",
    "    x_train[m]=X[Ir[m]]\n",
    "    y_train[m]=Y[Ir[m]]\n",
    "    y_train[m]=y_train[m].reshape(40000,1)\n",
    "    x_hold[m]=X[Iv[m]]\n",
    "    y_hold[m]=Y[Iv[m]]\n",
    "    y_hold[m]=y_hold[m].reshape(10000,1)\n",
    "\n",
    "# 1 vs all using Ridge regularization\n",
    "lamda_=np.linspace(0.5,5,10)\n",
    "error_rate=[]\n",
    "for lamda in lamda_:\n",
    "    w=[[]]*5\n",
    "    error_cross=[]\n",
    "    for n in range(5):\n",
    "        w[n]=[[]]*10\n",
    "        error_cross=[]\n",
    "        label=np.zeros((10000,10))\n",
    "        for k in range(10):\n",
    "            y=y_train[n].copy()\n",
    "            y[y_train[n]==k],y[y_train[n]!=k]=0,1\n",
    "            w[n][k]=np.linalg.inv(x_train[n].T@x_train[n]+lamda*np.identity(3072))@x_train[n].T@y\n",
    "            label[:,k:k+1]=x_hold[n]@w[n][k]\n",
    "        y_predict=np.argmin(label,axis=1)\n",
    "        error_cross.append(np.mean(y_predict!=y_hold[n]))\n",
    "\n",
    "    w_best=w[error_cross.index(min(error_cross))]    \n",
    "\n",
    "    # test\n",
    "    predict=np.zeros((10000,10))\n",
    "    for i in range(10):\n",
    "        predict[:,i:i+1]=x_test@w_best[i]\n",
    "    label=np.argmin(predict,axis=1)\n",
    "    error_rate.append(np.mean(label!=Y_test))\n",
    "print('error rate',min(error_rate))\n",
    "plt.plot(lamda_,error_rate,'bo')\n",
    "plt.xlabel('lambda')\n",
    "plt.ylabel('error rate')\n",
    "plt.show()"
   ]
  },
  {
   "cell_type": "code",
   "execution_count": null,
   "metadata": {},
   "outputs": [],
   "source": [
    "# Ridge Regression Function\n",
    "def weight(A,y,la):\n",
    "    p,n= A.shape\n",
    "    num_lam = len(la)\n",
    "    X = np.zeros((n, num_lam))\n",
    "    for k,each_lamda in enumerate(la):\n",
    "        X[:,k:k+1]=np.linalg.inv((A@A.T+each_lamda*np.eye(p)))@A.T@y\n",
    "    return X\n",
    "# 1 vs all\n",
    "w=[[]]*5\n",
    "error_cross=[]\n",
    "for n in range(5):\n",
    "    w[n]=[[]]*10\n",
    "    label=np.zeros((5000,10))\n",
    "    for k in range(10):\n",
    "        y=y_train[n].copy()\n",
    "        y[y_train[n]==k],y[y_train[n]!=k]=0,1\n",
    "        w[n][k]=np.linalg.inv(x_train[n].T@x_train[n])@x_train[n].T@y\n",
    "        label[:,k:k+1]=x_hold[n]@w[n][k]\n",
    "    \n",
    "\n",
    "    for j in range(5000):\n",
    "        result=[]\n",
    "        for i in range(10):\n",
    "            y=y_hold[n].copy()\n",
    "            y[y_hold[n]==i],y[y_hold[n]!=i]=0,1\n",
    "            predict=x_hold[n][j]@w[n][i]\n",
    "            result.append(predict)\n",
    "        label=result.index(min(result))\n",
    "        if label!=y_hold[n][j]:\n",
    "            error+=1\n",
    "    error_cross.append(error) \n",
    "        \n",
    "w_best=w[error_cross.index(min(error_cross))]    \n",
    "\n",
    "# test\n",
    "error=0\n",
    "for m in range(10000):\n",
    "    result=[]\n",
    "    for n in range(10):\n",
    "        predict=x_test[m]@w_best[n]\n",
    "        result.append(predict)\n",
    "    label=result.index(min(result))\n",
    "    if label!=Y_test[m]:\n",
    "        error+=1\n",
    "print('error rate=\\n',error/10000)\n"
   ]
  }
 ],
 "metadata": {
  "kernelspec": {
   "display_name": "Python 3",
   "language": "python",
   "name": "python3"
  },
  "language_info": {
   "codemirror_mode": {
    "name": "ipython",
    "version": 3
   },
   "file_extension": ".py",
   "mimetype": "text/x-python",
   "name": "python",
   "nbconvert_exporter": "python",
   "pygments_lexer": "ipython3",
   "version": "3.8.5"
  }
 },
 "nbformat": 4,
 "nbformat_minor": 4
}
